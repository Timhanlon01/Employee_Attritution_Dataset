{
 "cells": [
  {
   "cell_type": "markdown",
   "id": "8e99bdda-0369-461b-bd7f-3ce86f5812ee",
   "metadata": {},
   "source": [
    "# Read me file"
   ]
  },
  {
   "cell_type": "code",
   "execution_count": null,
   "id": "6692a183-511e-4033-a4cf-5b0a299ecc93",
   "metadata": {},
   "outputs": [],
   "source": [
    "# Employee Attrition Prediction\n",
    "\n",
    "## Overview\n",
    "This project uses machine learning techniques to predict employee attrition based on various factors. It implements a Random Forest classifier to identify the most important predictor variables for attrition and their interactions.\n",
    "\n",
    "## Requirements\n",
    "- Python 3.x\n",
    "- pandas\n",
    "- numpy\n",
    "- scikit-learn\n",
    "- matplotlib\n",
    "- seaborn\n",
    "\n",
    "## Installation\n",
    "1. Clone this repository or download the script.\n",
    "2. Install the required packages:\n",
    "\n",
    "## Dataset\n",
    "The project uses the \"employee_attrition_dataset.csv\" file.\n",
    "## Usage\n",
    "1. Run the script:\n",
    "2. The script will output:\n",
    "- Classification report\n",
    "- Confusion matrix\n",
    "- Top 10 most important features\n",
    "- A visualization of feature importance\n",
    "\n",
    "## Features\n",
    "- Data preprocessing: Converts categorical variables to numerical and applies one-hot encoding.\n",
    "- Model training: Uses Random Forest Classifier.\n",
    "- Model evaluation: Provides classification report and confusion matrix.\n",
    "- Feature importance analysis: Identifies and visualizes the most important features for predicting attrition.\n",
    "\n",
    "## Results\n",
    "The script outputs the model's performance metrics and a bar plot showing the top 10 most important features for predicting employee attrition.\n",
    "\n",
    "## Customization\n",
    "- Adjust the `n_estimators` parameter in the RandomForestClassifier for potentially improved performance.\n",
    "- Modify the test set size by changing the `test_size` parameter in the train_test_split function.\n"
   ]
  }
 ],
 "metadata": {
  "kernelspec": {
   "display_name": "Python 3 (ipykernel)",
   "language": "python",
   "name": "python3"
  },
  "language_info": {
   "codemirror_mode": {
    "name": "ipython",
    "version": 3
   },
   "file_extension": ".py",
   "mimetype": "text/x-python",
   "name": "python",
   "nbconvert_exporter": "python",
   "pygments_lexer": "ipython3",
   "version": "3.12.7"
  }
 },
 "nbformat": 4,
 "nbformat_minor": 5
}
